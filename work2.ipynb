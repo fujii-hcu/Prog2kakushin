{
  "nbformat": 4,
  "nbformat_minor": 0,
  "metadata": {
    "colab": {
      "provenance": [],
      "authorship_tag": "ABX9TyO87juXirlJeOax91AuYF0S",
      "include_colab_link": true
    },
    "kernelspec": {
      "name": "python3",
      "display_name": "Python 3"
    },
    "language_info": {
      "name": "python"
    }
  },
  "cells": [
    {
      "cell_type": "markdown",
      "metadata": {
        "id": "view-in-github",
        "colab_type": "text"
      },
      "source": [
        "<a href=\"https://colab.research.google.com/github/fujii-hcu/Prog2kakushin/blob/main/work2.ipynb\" target=\"_parent\"><img src=\"https://colab.research.google.com/assets/colab-badge.svg\" alt=\"Open In Colab\"/></a>"
      ]
    },
    {
      "cell_type": "markdown",
      "source": [
        "numpyを使用したプログラムを作成"
      ],
      "metadata": {
        "id": "fEfPw3VtEUOd"
      }
    },
    {
      "cell_type": "code",
      "source": [
        "import numpy as np\n",
        "import cv2\n",
        "import sys\n",
        "from google.colab.patches import cv2_imshow\n",
        "import random\n",
        "import time\n",
        "def create_img():\n",
        "  img = np.zeros( (200, 200,3), np.uint8 )\n",
        "  for i in range(0,200,20):\n",
        "    for j in range(0,200,20):\n",
        "      rgb=np.random.randint(0,3)\n",
        "      if rgb==0:\n",
        "       img[i:i+20,j:j+20]=[np.random.randint(0,11)*25,np.random.randint(0,2)*255,np.random.randint(0,2)*255]\n",
        "      elif rgb==1:\n",
        "        img[i:i+20,j:j+20]=[np.random.randint(0,2)*255,np.random.randint(0,11)*25,np.random.randint(0,2)*255]\n",
        "      else:\n",
        "        img[i:i+20,j:j+20]=[np.random.randint(0,2)*255,np.random.randint(0,2)*255,np.random.randint(0,11)*25]\n",
        "  return img\n",
        "\n",
        "n=int(input(\"生成枚数 (2～7): \"))\n",
        "data=[]\n",
        "img=create_img()\n",
        "data.append(img)\n",
        "for i in range(n-1):\n",
        "  data.append(create_img())\n",
        "random.shuffle(data)\n",
        "img2=np.zeros((200,210*n,3), np.uint8)\n",
        "img2[:,:]=[255,255,255]\n",
        "for i in range(n):\n",
        "  a=i*210\n",
        "  img2[0:200,a:a+200]=data[i]\n",
        "img_gray=cv2.cvtColor( img, cv2.COLOR_BGR2GRAY )\n",
        "img_gray_rot=img_gray\n",
        "n_rot=np.random.randint(1,4)\n",
        "for i in range(n_rot):\n",
        "  img_gray_rot=np.rot90(img_gray_rot)\n",
        "cv2_imshow(img_gray_rot)\n",
        "print(\"時計回りに \"+str(n_rot*90)+\" 度回転\")\n",
        "cv2_imshow(img2)\n",
        "\n",
        "\n",
        "t1 = time.time()\n",
        "\n",
        "answer=int(input(\"何枚目？(1～\"+str(n)+\")：\"))\n",
        "if np.all(data[answer-1]==img):\n",
        "  print(\"BINGO !!\")\n",
        "  t2 = time.time()\n",
        "  print(f\"正解時間 {int(t2-t1)}秒\")\n",
        "else:\n",
        "  print(\"WRONG !!\")\n",
        "  for i in range(n):\n",
        "    if np.all(data[i]==img):\n",
        "      print(\"ANSWER IS \"+str(i+1)+\" !!!\")\n",
        "      break\n",
        "  print(\"YOU ARE STUPID !!!!!\")"
      ],
      "metadata": {
        "colab": {
          "base_uri": "https://localhost:8080/",
          "height": 508
        },
        "id": "nkGl-tpn82GC",
        "outputId": "d4ea4626-4b45-40ae-a543-562186bd319c"
      },
      "execution_count": 5,
      "outputs": [
        {
          "name": "stdout",
          "output_type": "stream",
          "text": [
            "生成枚数 (2～7): 5\n"
          ]
        },
        {
          "output_type": "display_data",
          "data": {
            "text/plain": [
              "<PIL.Image.Image image mode=L size=200x200>"
            ],
            "image/png": "[encoded data removed]"
          },
          "metadata": {}
        },
        {
          "output_type": "stream",
          "name": "stdout",
          "text": [
            "時計回りに 90 度回転\n"
          ]
        },
        {
          "output_type": "display_data",
          "data": {
            "text/plain": [
              "<PIL.Image.Image image mode=RGB size=1050x200>"
            ],
            "image/png": "[encoded data removed]"
          },
          "metadata": {}
        },
        {
          "output_type": "stream",
          "name": "stdout",
          "text": [
            "何枚目？(1～5)：1\n",
            "BINGO !!\n",
            "正解時間 20秒\n"
          ]
        }
      ]
    }
  ]
}